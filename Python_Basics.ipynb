{
 "cells": [
  {
   "cell_type": "markdown",
   "metadata": {},
   "source": [
    "##  First Program"
   ]
  },
  {
   "cell_type": "code",
   "execution_count": 4,
   "metadata": {},
   "outputs": [
    {
     "name": "stdout",
     "output_type": "stream",
     "text": [
      "\n",
      " Enter the principal amount:5000\n",
      "\n",
      " Enter the time period:3\n",
      "\n",
      " Enter the rate of interest:7\n",
      "\n",
      " Simple Interest: 1050.0\n"
     ]
    }
   ],
   "source": [
    "p = int(input(\"\\n Enter the principal amount:\"))\n",
    "t = int(input(\"\\n Enter the time period:\"))\n",
    "r = int(input(\"\\n Enter the rate of interest:\"))\n",
    "si = p*t*r/100\n",
    "print(\"\\n Simple Interest:\",si)"
   ]
  },
  {
   "cell_type": "markdown",
   "metadata": {},
   "source": [
    "## Output using Print"
   ]
  },
  {
   "cell_type": "code",
   "execution_count": 7,
   "metadata": {},
   "outputs": [
    {
     "name": "stdout",
     "output_type": "stream",
     "text": [
      "This sentence is output to the screen\n",
      "The value of a is: 10\n",
      "x: 2 4 6 8 10\n",
      "The value of x is 4 and y is 10\n",
      "I love bread and jam\n",
      "I love bread and nutella\n"
     ]
    }
   ],
   "source": [
    "print('''This sentence is output to the screen''')\n",
    "n = 10\n",
    "print(\"The value of a is:\",n)\n",
    "print('x:',2,4,6,8,10)\n",
    "x = 4 ; y = 10\n",
    "print('The value of x is {} and y is {}'.format(x,y))\n",
    "print('I love {0} and {1}'.format('bread','jam'))\n",
    "print('I love {0} and {1}'.format('bread','nutella'))"
   ]
  },
  {
   "cell_type": "code",
   "execution_count": 1,
   "metadata": {},
   "outputs": [
    {
     "name": "stdout",
     "output_type": "stream",
     "text": [
      "Hello, Good morning!\n"
     ]
    }
   ],
   "source": [
    "print('Hello, {greeting}'.format(greeting = 'Good morning!',))"
   ]
  },
  {
   "cell_type": "code",
   "execution_count": 18,
   "metadata": {},
   "outputs": [
    {
     "name": "stdout",
     "output_type": "stream",
     "text": [
      "The value of x is 10.875\n",
      "The value of x is 10.87456\n"
     ]
    }
   ],
   "source": [
    "x = 10.874563637\n",
    "print('The value of x is %3.3f' %x)\n",
    "print('The value of x is %3.5f' %x)"
   ]
  },
  {
   "cell_type": "code",
   "execution_count": 19,
   "metadata": {},
   "outputs": [
    {
     "name": "stdout",
     "output_type": "stream",
     "text": [
      " 1   1    1\n",
      " 2   4    8\n",
      " 3   9   27\n",
      " 4  16   64\n",
      " 5  25  125\n",
      " 6  36  216\n",
      " 7  49  343\n",
      " 8  64  512\n",
      " 9  81  729\n",
      "10 100 1000\n"
     ]
    }
   ],
   "source": [
    "for x in range(1,11):\n",
    "    print('{0:2d} {1:3d} {2:4d}'.format(x,x*x,x*x*x))"
   ]
  },
  {
   "cell_type": "code",
   "execution_count": 1,
   "metadata": {},
   "outputs": [
    {
     "name": "stdout",
     "output_type": "stream",
     "text": [
      "asf        ==>      12345\n",
      "Abc        ==>    3456676\n",
      "qwe        ==>   75675656\n"
     ]
    }
   ],
   "source": [
    "table = {'asf':12345,'Abc':3456676,'qwe':75675656}\n",
    "for name,phone in table.items():\n",
    "    print('{0:10} ==> {1:10d}'.format(name,phone))"
   ]
  },
  {
   "cell_type": "code",
   "execution_count": 21,
   "metadata": {},
   "outputs": [
    {
     "name": "stdout",
     "output_type": "stream",
     "text": [
      "The value of PI is 3.142.\n"
     ]
    }
   ],
   "source": [
    "import math\n",
    "print('The value of PI is %5.3f.' %math.pi)"
   ]
  },
  {
   "cell_type": "markdown",
   "metadata": {},
   "source": [
    "## Input using input"
   ]
  },
  {
   "cell_type": "code",
   "execution_count": 3,
   "metadata": {
    "scrolled": true
   },
   "outputs": [
    {
     "name": "stdout",
     "output_type": "stream",
     "text": [
      "Enter a string:abc\n",
      "The entered string is:abc\n",
      "Enter a integer:123\n",
      "The entered integer is: 123\n",
      "Enter a floating point number:232.21\n",
      "The entered real number is: 232.21\n"
     ]
    }
   ],
   "source": [
    "x = input('Enter a string:')\n",
    "print(\"The entered string is:{0}\".format(x))\n",
    "y = int(input('Enter a integer:'))\n",
    "print(\"The entered integer is:\",y)\n",
    "z = float(input('Enter a floating point number:'))\n",
    "print(\"The entered real number is:\",z)"
   ]
  },
  {
   "cell_type": "markdown",
   "metadata": {},
   "source": [
    "## Multiline Statement"
   ]
  },
  {
   "cell_type": "code",
   "execution_count": 8,
   "metadata": {},
   "outputs": [
    {
     "name": "stdout",
     "output_type": "stream",
     "text": [
      "x has a value of 1234\n",
      "y has a value of 121112\n",
      "['Monday', 'Tuesday', 'Wednesday', 'Thursday', 'Friday']\n",
      "{'one': 'Monday'}\n"
     ]
    }
   ],
   "source": [
    "x = ('1' + '2' +\n",
    "     '3' + '4')\n",
    "y = '1' + '2' + \\\n",
    "'11' + '12'\n",
    "weekdays = ['Monday', 'Tuesday', 'Wednesday','Thursday', 'Friday']\n",
    "weekday = {'one':'Monday'}\n",
    "print ('x has a value of', x)\n",
    "print ('y has a value of', y)\n",
    "print(weekdays)\n",
    "print(weekday)\n"
   ]
  },
  {
   "cell_type": "code",
   "execution_count": 9,
   "metadata": {},
   "outputs": [
    {
     "name": "stdout",
     "output_type": "stream",
     "text": [
      "Hello\n"
     ]
    }
   ],
   "source": [
    "import os;\n",
    "x = 'Hello';\n",
    "print(x)"
   ]
  },
  {
   "cell_type": "markdown",
   "metadata": {},
   "source": [
    "## Conditional Execution\n",
    "### Example code for a simple 'if' statement"
   ]
  },
  {
   "cell_type": "code",
   "execution_count": 10,
   "metadata": {},
   "outputs": [
    {
     "name": "stdout",
     "output_type": "stream",
     "text": [
      "-1\n",
      "the value of var is negative\n",
      "the value of var is negative\n"
     ]
    }
   ],
   "source": [
    "var = -1\n",
    "if var < 0:\n",
    "    print(var)\n",
    "    print(\"the value of var is negative\")\n",
    "if(var == -1):\n",
    "    print(\"the value of var is negative\")"
   ]
  },
  {
   "cell_type": "code",
   "execution_count": 11,
   "metadata": {},
   "outputs": [
    {
     "name": "stdout",
     "output_type": "stream",
     "text": [
      "the value of var is positive\n",
      "1\n"
     ]
    }
   ],
   "source": [
    "var = 1\n",
    "if var < 0:\n",
    "    print(\"the value of var is negative\")\n",
    "    print(var)\n",
    "else:\n",
    "    print(\"the value of var is positive\")\n",
    "    print(var)"
   ]
  },
  {
   "cell_type": "code",
   "execution_count": 13,
   "metadata": {},
   "outputs": [
    {
     "name": "stdout",
     "output_type": "stream",
     "text": [
      "B\n"
     ]
    }
   ],
   "source": [
    "score = 95\n",
    "if score >= 99:\n",
    "    print('A')\n",
    "elif score >= 75:    \n",
    "    print('B')\n",
    "elif score >= 60:    \n",
    "    print('C')\n",
    "elif score >= 35:    \n",
    "    print('D')\n",
    "else:    \n",
    "    print('F')       "
   ]
  },
  {
   "cell_type": "markdown",
   "metadata": {},
   "source": [
    "##  Iteration\n",
    "### Usage of For Loop"
   ]
  },
  {
   "cell_type": "code",
   "execution_count": 15,
   "metadata": {},
   "outputs": [
    {
     "name": "stdout",
     "output_type": "stream",
     "text": [
      "First Example\n",
      "item : 1\n",
      "item : 2\n",
      "item : 3\n",
      "item : 4\n",
      "item : 5\n",
      "Second Example\n",
      "First loop letter : A\n",
      "First loop letter : B\n",
      "First loop letter : C\n"
     ]
    }
   ],
   "source": [
    "print(\"First Example\")\n",
    "for item in [1,2,3,4,5]:\n",
    "    print('item :', item)\n",
    "print(\"Second Example\")\n",
    "letters = ['A', 'B', 'C']\n",
    "for index in range(len(letters)):\n",
    "    print('First loop letter :', letters[index])"
   ]
  },
  {
   "cell_type": "code",
   "execution_count": 16,
   "metadata": {},
   "outputs": [
    {
     "name": "stdout",
     "output_type": "stream",
     "text": [
      "The count is: 0\n",
      "The count is: 1\n",
      "The count is: 2\n"
     ]
    }
   ],
   "source": [
    "count = 0\n",
    "while (count <3):\n",
    "    print('The count is:', count)\n",
    "    count = count + 1"
   ]
  },
  {
   "cell_type": "markdown",
   "metadata": {},
   "source": [
    "## Lists"
   ]
  },
  {
   "cell_type": "code",
   "execution_count": 17,
   "metadata": {},
   "outputs": [
    {
     "name": "stdout",
     "output_type": "stream",
     "text": [
      "list_1[0]:  Statistics\n",
      "list2_[1:5]:  ['b', 1, 2, 3]\n"
     ]
    }
   ],
   "source": [
    "list_1 = ['Statistics', 'Programming', 2016, 2017, 2018]\n",
    "list_2 = ['a', 'b', 1, 2, 3, 4, 5, 6, 7 ]\n",
    "print(\"list_1[0]: \", list_1[0])\n",
    "print(\"list2_[1:5]: \", list_2[1:5])"
   ]
  },
  {
   "cell_type": "code",
   "execution_count": 18,
   "metadata": {},
   "outputs": [
    {
     "name": "stdout",
     "output_type": "stream",
     "text": [
      "list_1 values:  ['Statistics', 'Programming', 2016, 2017, 2018]\n",
      "list_1 values post append:  ['Statistics', 'Programming', 2016, 2017, 2018, 2019]\n"
     ]
    }
   ],
   "source": [
    "print(\"list_1 values: \", list_1)\n",
    "list_1.append(2019)\n",
    "print(\"list_1 values post append: \", list_1)"
   ]
  },
  {
   "cell_type": "code",
   "execution_count": 19,
   "metadata": {},
   "outputs": [
    {
     "name": "stdout",
     "output_type": "stream",
     "text": [
      "Values of list_1:  ['Statistics', 'Programming', 2016, 2017, 2018, 2019]\n",
      "Index 2 value :  2016\n",
      "Index 2's new value :  2015\n"
     ]
    }
   ],
   "source": [
    "print(\"Values of list_1: \", list_1)\n",
    "print(\"Index 2 value : \", list_1[2])\n",
    "list_1[2] = 2015;\n",
    "print(\"Index 2's new value : \", list_1[2])"
   ]
  },
  {
   "cell_type": "code",
   "execution_count": 29,
   "metadata": {},
   "outputs": [
    {
     "name": "stdout",
     "output_type": "stream",
     "text": [
      "list_1 values:  ['Statistics', 'Programming', 2017, 2018]\n",
      "After deleting value at index 2 :  ['Statistics', 'Programming', 2018]\n"
     ]
    }
   ],
   "source": [
    "print(\"list_1 values: \", list_1)\n",
    "del list_1[2];\n",
    "print(\"After deleting value at index 2 : \",list_1)"
   ]
  },
  {
   "cell_type": "markdown",
   "metadata": {},
   "source": [
    "## Example code for basic operation on lists"
   ]
  },
  {
   "cell_type": "code",
   "execution_count": 30,
   "metadata": {},
   "outputs": [
    {
     "name": "stdout",
     "output_type": "stream",
     "text": [
      "Length:  3\n",
      "Concatenation:  [1, 2, 3, 4, 5, 6]\n",
      "Repetition : ['Hello', 'Hello', 'Hello', 'Hello']\n",
      "Membership : True\n",
      "Iteration :\n",
      "1\n",
      "2\n",
      "3\n",
      "slicing : Programming\n",
      "slicing range:  ['Programming', 2018]\n",
      "Max of list:  5\n",
      "Min of list:  1\n",
      "Count number of 1 in list:  2\n",
      "Extended : ['Statistics', 'Programming', 2018, 'a', 'b', 1, 2, 3, 4, 5, 6, 7]\n",
      "Index for Programming: 1\n",
      "['Statistics', 'Programming', 2018, 'a', 'b', 1, 2, 3, 4, 5, 6, 7]\n",
      "pop last item in list:  7\n",
      "pop the item with index 2:  2018\n",
      "removed b from list:  ['Statistics', 'Programming', 'a', 1, 2, 3, 4, 5, 6]\n",
      "Reverse:  [6, 5, 4, 3, 2, 1, 'a', 'Programming', 'Statistics']\n",
      "Sort ascending:  ['a', 'b', 'c']\n",
      "Sort descending:  ['c', 'b', 'a']\n"
     ]
    }
   ],
   "source": [
    "import string\n",
    "import operator\n",
    "print(\"Length: \", len(list_1))\n",
    "print(\"Concatenation: \", [1,2,3] + [4, 5, 6])\n",
    "print(\"Repetition :\", ['Hello'] * 4)\n",
    "print(\"Membership :\", 3 in [1,2,3])\n",
    "print(\"Iteration :\")\n",
    "for x in [1,2,3]: print(x)\n",
    "print(\"slicing :\", list_1[-2])\n",
    "print(\"slicing range: \", list_1[1:])\n",
    "print(\"Max of list: \", max([1,2,3,4,5]))\n",
    "print(\"Min of list: \", min([1,2,3,4,5]))\n",
    "print(\"Count number of 1 in list: \", [1,1,2,3,4,5,].count(1))\n",
    "list_1.extend(list_2)\n",
    "print(\"Extended :\", list_1)\n",
    "print(\"Index for Programming:\",list_1.index('Programming'))\n",
    "print (list_1)\n",
    "print(\"pop last item in list: \", list_1.pop())\n",
    "print(\"pop the item with index 2: \", list_1.pop(2))\n",
    "list_1.remove('b')\n",
    "print(\"removed b from list: \", list_1)\n",
    "list_1.reverse()\n",
    "print(\"Reverse: \", list_1)\n",
    "list_1 = ['a','c','b']\n",
    "list_1.sort()\n",
    "print(\"Sort ascending: \", list_1)\n",
    "list_1.sort(reverse = True)\n",
    "print(\"Sort descending: \", list_1)"
   ]
  },
  {
   "cell_type": "markdown",
   "metadata": {},
   "source": [
    "## Tuples"
   ]
  },
  {
   "cell_type": "code",
   "execution_count": 31,
   "metadata": {},
   "outputs": [
    {
     "name": "stdout",
     "output_type": "stream",
     "text": [
      "Empty Tuple:  ()\n",
      "Tuple with single item:  (1,)\n",
      "Sample Tuple : ('a', 'b', 'c', 'd', 1, 2, 3)\n"
     ]
    }
   ],
   "source": [
    "Tuple = ()\n",
    "print(\"Empty Tuple: \", Tuple)\n",
    "Tuple = (1,)\n",
    "print(\"Tuple with single item: \", Tuple)\n",
    "Tuple = ('a','b','c','d',1,2,3)\n",
    "print(\"Sample Tuple :\", Tuple)"
   ]
  },
  {
   "cell_type": "code",
   "execution_count": 32,
   "metadata": {},
   "outputs": [
    {
     "name": "stdout",
     "output_type": "stream",
     "text": [
      "3rd item of Tuple: c\n",
      "First 3 items of Tuple ('a', 'b')\n"
     ]
    }
   ],
   "source": [
    "Tuple = ('a', 'b', 'c', 'd', 1, 2, 3)\n",
    "print(\"3rd item of Tuple:\", Tuple[2])\n",
    "print(\"First 3 items of Tuple\", Tuple[0:2])"
   ]
  },
  {
   "cell_type": "code",
   "execution_count": null,
   "metadata": {},
   "outputs": [],
   "source": []
  },
  {
   "cell_type": "code",
   "execution_count": 36,
   "metadata": {},
   "outputs": [
    {
     "name": "stdout",
     "output_type": "stream",
     "text": [
      "Length of Tuple:  7\n",
      "Concatinated Tuple:  ('a', 'b', 'c', 'd', 1, 2, 3, 7, 8, 9)\n",
      "Repetition:  (1, 'a', 2, 'b', 1, 'a', 2, 'b', 1, 'a', 2, 'b')\n",
      "Membership check:  True\n",
      "1\n",
      "2\n",
      "3\n",
      "Negative sign will retrieve item from right:  8\n",
      "Sliced Tuple [2:]  ('c', 'd', 1, 2, 3, 7, 8, 9)\n",
      "Max of the Tuple (1,2,3,4,5,6,7,8,9,10):  10\n",
      "Min of the Tuple (1,2,3,4,5,6,7,8,9,10):  1\n",
      "List [1,2,3,4] converted to tuple:  <class 'tuple'>\n"
     ]
    }
   ],
   "source": [
    "Tuple = ('a','b','c','d',1,2,3)\n",
    "print(\"Length of Tuple: \", len(Tuple))\n",
    "Tuple_Concat = Tuple + (7,8,9)\n",
    "print(\"Concatinated Tuple: \", Tuple_Concat)\n",
    "print(\"Repetition: \", (1,'a',2, 'b') * 3)\n",
    "print(\"Membership check: \", 3 in (1,2,3))\n",
    "for x in (1, 2, 3): print(x)\n",
    "print(\"Negative sign will retrieve item from right: \", Tuple_Concat[-2])\n",
    "print(\"Sliced Tuple [2:] \", Tuple_Concat[2:])\n",
    "print(\"Max of the Tuple (1,2,3,4,5,6,7,8,9,10): \",\n",
    "max((1,2,3,4,5,6,7,8,9,10)))\n",
    "print(\"Min of the Tuple (1,2,3,4,5,6,7,8,9,10): \",\n",
    "min((1,2,3,4,5,6,7,8,9,10)))\n",
    "print(\"List [1,2,3,4] converted to tuple: \", type(tuple([1,2,3,4])))"
   ]
  },
  {
   "cell_type": "markdown",
   "metadata": {},
   "source": [
    "## Dictionary"
   ]
  },
  {
   "cell_type": "code",
   "execution_count": 4,
   "metadata": {},
   "outputs": [
    {
     "name": "stdout",
     "output_type": "stream",
     "text": [
      "Sample dictionary:  {'Name': 'asd', 'Age': 15, 'Class': 'Tenth'}\n"
     ]
    }
   ],
   "source": [
    "dict = {'Name': 'asd', 'Age': 15, 'Class': 'Tenth'}\n",
    "print(\"Sample dictionary: \", dict)"
   ]
  },
  {
   "cell_type": "code",
   "execution_count": 5,
   "metadata": {},
   "outputs": [
    {
     "name": "stdout",
     "output_type": "stream",
     "text": [
      "Value of key Name, from sample dictionary: asd\n"
     ]
    }
   ],
   "source": [
    "print(\"Value of key Name, from sample dictionary:\", dict['Name'])"
   ]
  },
  {
   "cell_type": "code",
   "execution_count": 7,
   "metadata": {},
   "outputs": [
    {
     "name": "stdout",
     "output_type": "stream",
     "text": [
      "Sample dictionary:  {'Name': 'xyz', 'Age': 20, 'Class': 'BE'}\n",
      "1 Name xyz\n",
      "2 Age 20\n",
      "3 Class BE\n",
      "Sample dictionary post deletion of item Name: {'Age': 20, 'Class': 'BE'}\n",
      "dict post dict.clear(): {}\n"
     ]
    }
   ],
   "source": [
    "dict0 = {'Name': 'xyz', 'Age': 20, 'Class': 'BE'}\n",
    "print(\"Sample dictionary: \", dict0)\n",
    "k=1\n",
    "for i in dict0:\n",
    "    print(k,i,dict0[i])\n",
    "    k=k+1\n",
    "del (dict0['Name'])\n",
    "print(\"Sample dictionary post deletion of item Name:\", dict0)\n",
    "dict0 = {'Name': 'xyz', 'Age': 20, 'Class': 'BE'}\n",
    "dict0.clear() \n",
    "print(\"dict post dict.clear():\", dict0)\n",
    "dict = {'Name': 'xyz', 'Age': 20, 'Class': 'BE'}\n",
    "del (dict0) "
   ]
  },
  {
   "cell_type": "code",
   "execution_count": 8,
   "metadata": {},
   "outputs": [
    {
     "name": "stdout",
     "output_type": "stream",
     "text": [
      "Sample dictionary:  {'Name': 'asd', 'Age': 20, 'Class': ' BE'}\n",
      "Dictionary post age value update:  {'Name': 'asd', 'Age': 20.6, 'Class': ' BE'}\n"
     ]
    }
   ],
   "source": [
    "dict = {'Name': 'asd', 'Age': 20, 'Class': ' BE'}\n",
    "print(\"Sample dictionary: \", dict)\n",
    "dict['Age'] = 20.6\n",
    "print(\"Dictionary post age value update: \", dict)"
   ]
  },
  {
   "cell_type": "code",
   "execution_count": 9,
   "metadata": {},
   "outputs": [
    {
     "name": "stdout",
     "output_type": "stream",
     "text": [
      "Length of dict:  3\n",
      "Copy:\n",
      " {'Name': 'as', 'Age': 20, 'Class': ' BE'}\n",
      "Value for Age:  20\n",
      "dict items:  dict_items([('Name', 'as'), ('Age', 20), ('Class', ' BE')])\n",
      "dict keys:  dict_keys(['Name', 'Age', 'Class'])\n",
      "Value of dict:  dict_values(['as', 20, ' BE'])\n",
      "dict1.update(dict2) =  {'Name': 'asd', 'Age': 20, 'Sex': 'm'}\n"
     ]
    }
   ],
   "source": [
    "dict = {'Name': 'as', 'Age': 20, 'Class': ' BE'}\n",
    "print(\"Length of dict: \", len(dict))\n",
    "dict1 = dict.copy()\n",
    "print(\"Copy:\\n\",dict1)\n",
    "print(\"Value for Age: \", dict.get('Age'))\n",
    "print(\"dict items: \", dict.items())\n",
    "print(\"dict keys: \", dict.keys())\n",
    "print(\"Value of dict: \", dict.values())\n",
    "dict1 = {'Name': 'asd', 'Age': 20}\n",
    "dict2 = {'Sex': 'm' }\n",
    "dict1.update(dict2)\n",
    "print(\"dict1.update(dict2) = \", dict1)"
   ]
  },
  {
   "cell_type": "markdown",
   "metadata": {},
   "source": [
    "## User-defined Functions"
   ]
  },
  {
   "cell_type": "code",
   "execution_count": 43,
   "metadata": {},
   "outputs": [
    {
     "name": "stdout",
     "output_type": "stream",
     "text": [
      "Hello World\n"
     ]
    }
   ],
   "source": [
    "def helloFunction():\n",
    "    print(\"Hello World\")\n",
    "helloFunction()"
   ]
  },
  {
   "cell_type": "code",
   "execution_count": 44,
   "metadata": {},
   "outputs": [
    {
     "name": "stdout",
     "output_type": "stream",
     "text": [
      "3\n"
     ]
    }
   ],
   "source": [
    "def sum_numbers(x, y):\n",
    "        return x + y\n",
    "print(sum_numbers(1,2))"
   ]
  },
  {
   "cell_type": "code",
   "execution_count": 45,
   "metadata": {},
   "outputs": [
    {
     "name": "stdout",
     "output_type": "stream",
     "text": [
      "1\n",
      "2\n",
      "3\n"
     ]
    }
   ],
   "source": [
    "def sample_function(*args):\n",
    "    for a in args:\n",
    "        print(a)\n",
    "sample_function(1,2,3)"
   ]
  },
  {
   "cell_type": "code",
   "execution_count": 10,
   "metadata": {},
   "outputs": [
    {
     "name": "stdout",
     "output_type": "stream",
     "text": [
      "name asd\n",
      "age 20\n"
     ]
    }
   ],
   "source": [
    "def sample_function(**args):\n",
    "    for a in args:\n",
    "        print(a, args[a])\n",
    "sample_function(name='asd', age=20)"
   ]
  },
  {
   "cell_type": "code",
   "execution_count": 48,
   "metadata": {},
   "outputs": [
    {
     "name": "stdout",
     "output_type": "stream",
     "text": [
      "FUNCTION ADD:\n",
      " 9\n",
      "LAMBDA ADD :\n",
      " 9\n"
     ]
    }
   ],
   "source": [
    "def add(x, y): \n",
    "    return x + y\n",
    "print(\"FUNCTION ADD:\\n\",add(7,2))\n",
    "add = lambda x, y : x + y \n",
    "print(\"LAMBDA ADD :\\n\",add(7,2))"
   ]
  },
  {
   "cell_type": "code",
   "execution_count": 2,
   "metadata": {},
   "outputs": [
    {
     "name": "stdout",
     "output_type": "stream",
     "text": [
      "FUNCTION ADD:\n",
      " 4\n",
      "LAMBDA ADD :\n",
      " 4\n"
     ]
    }
   ],
   "source": [
    "def add(x, y): \n",
    "    return x + y\n",
    "print(\"FUNCTION ADD:\\n\",add(2,2))\n",
    "add = lambda x, y : x + y \n",
    "print(\"LAMBDA ADD :\\n\",add(2,2))"
   ]
  }
 ],
 "metadata": {
  "kernelspec": {
   "display_name": "Python 3",
   "language": "python",
   "name": "python3"
  },
  "language_info": {
   "codemirror_mode": {
    "name": "ipython",
    "version": 3
   },
   "file_extension": ".py",
   "mimetype": "text/x-python",
   "name": "python",
   "nbconvert_exporter": "python",
   "pygments_lexer": "ipython3",
   "version": "3.7.4"
  }
 },
 "nbformat": 4,
 "nbformat_minor": 4
}
